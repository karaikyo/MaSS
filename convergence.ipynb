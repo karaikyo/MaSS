{
 "metadata": {
  "language_info": {
   "codemirror_mode": {
    "name": "ipython",
    "version": 3
   },
   "file_extension": ".py",
   "mimetype": "text/x-python",
   "name": "python",
   "nbconvert_exporter": "python",
   "pygments_lexer": "ipython3",
   "version": "3.8.6"
  },
  "orig_nbformat": 2,
  "kernelspec": {
   "name": "python386jvsc74a57bd037b255bb5dc0d995b91bd1b934b878e610a26475f52eafaf29fdb395fb105534",
   "display_name": "Python 3.8.6 64-bit ('base': conda)"
  }
 },
 "nbformat": 4,
 "nbformat_minor": 2,
 "cells": [
  {
   "cell_type": "code",
   "execution_count": null,
   "metadata": {},
   "outputs": [],
   "source": [
    "%matplotlib inline\n",
    "%load_ext autoreload\n",
    "%autoreload 2\n",
    "import matplotlib.pyplot as plt\n",
    "import torch\n",
    "from sklearn.datasets import make_regression\n",
    "from torch.distributions.multivariate_normal import MultivariateNormal\n",
    "seed = 7\n",
    "torch.manual_seed(seed)\n",
    "torch.backends.cudnn.deterministic = True"
   ]
  },
  {
   "cell_type": "code",
   "execution_count": null,
   "metadata": {},
   "outputs": [],
   "source": [
    "n_data = 2000\n",
    "sig1 = torch.ones(8)\n",
    "sig2 = torch.ones(40,dtype=torch.float) * pow(2,-10)\n",
    "sig = torch.diag(torch.cat((sig1,sig2)))\n",
    "x_dist = MultivariateNormal(torch.zeros(48), sig)\n",
    "x = [x_dist.sample() for i in range(n_data)]\n",
    "x = torch.stack(x)\n",
    "w = torch.rand(48,dtype=torch.float)\n",
    "y = x@w"
   ]
  },
  {
   "cell_type": "code",
   "execution_count": null,
   "metadata": {},
   "outputs": [],
   "source": [
    "from torch.utils.data import TensorDataset, DataLoader\n",
    "x_train = x.clone().detach().requires_grad_(True)\n",
    "y_train = y.clone().detach().requires_grad_(True)\n",
    "train_ds = TensorDataset(x_train, y_train)"
   ]
  },
  {
   "cell_type": "code",
   "execution_count": null,
   "metadata": {},
   "outputs": [],
   "source": [
    "import torch.nn.functional as F\n",
    "import torch.nn as nn\n",
    "import mass\n",
    "device = \"cuda:0\""
   ]
  },
  {
   "cell_type": "code",
   "execution_count": null,
   "metadata": {},
   "outputs": [],
   "source": [
    "def fit(model_instance, loss_fn, optim, data_loader, n_iter = 10, epsilon = 0.1):\n",
    "    iter_count = 0\n",
    "    epo_count = 0\n",
    "    while True:\n",
    "        model_instance.train()\n",
    "        running_loss = 0.0\n",
    "\n",
    "        for xb,yb in data_loader:\n",
    "            iter_count += 1\n",
    "\n",
    "            xb = xb.to(device)\n",
    "            yb = yb.to(device)\n",
    "\n",
    "            pred = model_instance(xb)\n",
    "            pred = pred.squeeze(1)\n",
    "\n",
    "            loss = loss_fn(pred, yb)\n",
    "            loss.backward()\n",
    "            optim.step()\n",
    "            optim.zero_grad()\n",
    "            running_loss += loss.item()\n",
    "\n",
    "        epo_count += 1\n",
    "        if running_loss < epsilon:\n",
    "            return iter_count"
   ]
  },
  {
   "cell_type": "code",
   "execution_count": null,
   "metadata": {},
   "outputs": [],
   "source": [
    "model = nn.Linear(48, 1).to(device)\n",
    "batch_size = 1\n",
    "train_dl = DataLoader(train_ds, batch_size, shuffle=True)\n",
    "opt = mass.Mass(model.parameters(),lr=0.1,alpha=0.02,kappa_t=6)\n",
    "loss_function = F.mse_loss"
   ]
  },
  {
   "cell_type": "code",
   "execution_count": null,
   "metadata": {},
   "outputs": [],
   "source": [
    "iters = fit(model, loss_function,opt,train_dl,n_iter=40, epsilon = 0.1)"
   ]
  },
  {
   "cell_type": "code",
   "execution_count": null,
   "metadata": {},
   "outputs": [],
   "source": [
    "iter_counts = []\n",
    "for m in range(10,160,10):\n",
    "    print(\"batch size: %d\" % (m))\n",
    "    model = nn.Linear(48, 1).to(device)\n",
    "    opt = mass.Mass(model.parameters(),lr=0.1,alpha=0.02,kappa_t=6)\n",
    "    train_dl = DataLoader(train_ds, m, shuffle=True)\n",
    "    iter_ = fit(model, loss_function,opt,train_dl,n_iter=40, epsilon = 0.1)\n",
    "    iter_counts.append(iter_)"
   ]
  },
  {
   "cell_type": "code",
   "execution_count": null,
   "metadata": {},
   "outputs": [],
   "source": [
    "s_m = [1/i for i in iter_counts]"
   ]
  },
  {
   "cell_type": "code",
   "execution_count": null,
   "metadata": {},
   "outputs": [],
   "source": [
    "plt.plot(s_m)"
   ]
  }
 ]
}