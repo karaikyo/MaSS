{
 "metadata": {
  "language_info": {
   "codemirror_mode": {
    "name": "ipython",
    "version": 3
   },
   "file_extension": ".py",
   "mimetype": "text/x-python",
   "name": "python",
   "nbconvert_exporter": "python",
   "pygments_lexer": "ipython3",
   "version": "3.8.6"
  },
  "orig_nbformat": 2,
  "kernelspec": {
   "name": "python386jvsc74a57bd037b255bb5dc0d995b91bd1b934b878e610a26475f52eafaf29fdb395fb105534",
   "display_name": "Python 3.8.6 64-bit ('base': conda)"
  }
 },
 "nbformat": 4,
 "nbformat_minor": 2,
 "cells": [
  {
   "cell_type": "code",
   "execution_count": null,
   "metadata": {},
   "outputs": [],
   "source": [
    "%matplotlib inline\n",
    "%load_ext autoreload\n",
    "%autoreload 2\n",
    "import torch\n",
    "import torch.nn.functional as F\n",
    "import torch.nn as nn\n",
    "import torchvision.transforms as transforms\n",
    "\n",
    "from torch.optim import Optimizer\n",
    "from torch.optim import SGD\n",
    "import mass\n",
    "from torch.utils.data import DataLoader\n",
    "from torchvision.datasets import MNIST\n",
    "import matplotlib.pyplot as plt\n",
    "seed = 7\n",
    "torch.manual_seed(seed)\n",
    "torch.backends.cudnn.deterministic = True\n",
    "torch.backends.cudnn.benchmark = False\n",
    "import numpy as np\n",
    "np.random.seed(seed)\n",
    "\n",
    "from skorch import NeuralNetClassifier\n",
    "from sklearn.model_selection import GridSearchCV, ShuffleSplit\n",
    "import numpy as np"
   ]
  },
  {
   "cell_type": "code",
   "execution_count": null,
   "metadata": {},
   "outputs": [],
   "source": [
    "# MINIST dataset\n",
    "transform = transforms.Compose([\n",
    "    transforms.ToTensor(),\n",
    "    transforms.Lambda(lambda x: x.view(-1))\n",
    "])\n",
    "\n",
    "trainset = MNIST(\".\", train=True, download=True, transform=transform)\n",
    "testset = MNIST(\".\", train=False, download=True, transform=transform)\n",
    "\n",
    "# create data loaders\n",
    "batch_size = 64\n",
    "trainloader = DataLoader(trainset, batch_size=batch_size, shuffle=True)\n",
    "testloader = DataLoader(testset, batch_size=batch_size, shuffle=True)"
   ]
  },
  {
   "cell_type": "code",
   "execution_count": null,
   "metadata": {},
   "outputs": [],
   "source": [
    "class FCN(nn.Module):\n",
    "    def __init__(self, input_size=784, hidden_size=100, num_classes=10):\n",
    "        super(FCN, self).__init__()\n",
    "        self.fc1 = nn.Linear(input_size, hidden_size)\n",
    "        self.fc2 = nn.Linear(hidden_size, hidden_size)\n",
    "        self.fc3 = nn.Linear(hidden_size, hidden_size)\n",
    "        self.fc4 = nn.Linear(hidden_size, num_classes)  \n",
    "    \n",
    "    def forward(self, x):\n",
    "        out = self.fc1(x)\n",
    "        \n",
    "        out = self.fc2(out)\n",
    "        out = F.relu(out)\n",
    "        out = F.dropout(out, 0.5)\n",
    "\n",
    "        out = self.fc3(out)\n",
    "        out = F.relu(out)\n",
    "        out = F.dropout(out, 0.5)\n",
    "\n",
    "        out = self.fc4(out)\n",
    "        out = F.relu(out)\n",
    "        out = F.dropout(out, 0.5)\n",
    "\n",
    "        if not self.training:\n",
    "            out = F.softmax(out, dim=1)\n",
    "        return out"
   ]
  },
  {
   "cell_type": "code",
   "execution_count": null,
   "metadata": {},
   "outputs": [],
   "source": [
    "def fit(model_instance, loss_fn, optim, data_loader, n_iter = 100):\n",
    "    train_loss = torch.zeros(n_iter)\n",
    "\n",
    "    for epoch in range(n_iter):\n",
    "        model_instance.train()\n",
    "        running_loss = 0.0\n",
    "        for data in data_loader:\n",
    "\n",
    "            inputs, labels = data\n",
    "            inputs, labels = inputs.to(device), labels.to(device)\n",
    "\n",
    "            optim.zero_grad()\n",
    "            outputs = model_instance(inputs)\n",
    "            loss = loss_fn(outputs, labels)\n",
    "            loss.backward()\n",
    "            optim.step()\n",
    "\n",
    "            running_loss += loss.item()\n",
    "        print(\"Epoch %d, loss %4.2f\" % (epoch, running_loss))\n",
    "        train_loss[epoch] = running_loss\n",
    "\n",
    "    print('**** Finished Training ****')\n",
    "    return train_loss"
   ]
  },
  {
   "cell_type": "code",
   "execution_count": null,
   "metadata": {},
   "outputs": [],
   "source": [
    "# SGD\n",
    "torch.cuda.empty_cache()\n",
    "device = \"cuda:0\"\n",
    "\n",
    "model = FCN().to(device)\n",
    "\n",
    "loss_function = nn.CrossEntropyLoss()\n",
    "sgd = SGD(model.parameters(), lr = 0.01)\n",
    "train_loss_sgd = fit(model_instance = model, loss_fn = loss_function, optim = sgd, data_loader=trainloader)"
   ]
  },
  {
   "cell_type": "code",
   "execution_count": null,
   "metadata": {},
   "outputs": [],
   "source": [
    "# Nesterov\n",
    "torch.cuda.empty_cache()\n",
    "device = \"cuda:0\"\n",
    "\n",
    "model = FCN().to(device)\n",
    "\n",
    "loss_function = nn.CrossEntropyLoss()\n",
    "sgd_nesterov = SGD(model.parameters(), lr = 0.001,momentum=0.9, nesterov=True, weight_decay=1)\n",
    "train_loss_nesterov = fit(model_instance = model, loss_fn = loss_function, optim = sgd_nesterov, data_loader=trainloader)\n",
    "torch.save(train_loss_sgd, \"./train_loss_nes.mnist\")"
   ]
  },
  {
   "cell_type": "code",
   "execution_count": null,
   "metadata": {},
   "outputs": [],
   "source": [
    "# Mass\n",
    "torch.cuda.empty_cache()\n",
    "device = \"cuda:0\"\n",
    "\n",
    "model = FCN().to(device)\n",
    "\n",
    "loss_function = nn.CrossEntropyLoss()\n",
    "mass = mass.Mass(model.parameters(), lr = 0.01, alpha = 0.05, kappa_t = 12)\n",
    "train_loss_mass = fit(model, loss_function, mass, trainloader)"
   ]
  },
  {
   "cell_type": "code",
   "execution_count": null,
   "metadata": {},
   "outputs": [],
   "source": [
    "torch.save(train_loss_sgd, \"./train_loss_mas.mnist\")"
   ]
  },
  {
   "cell_type": "code",
   "execution_count": null,
   "metadata": {},
   "outputs": [],
   "source": [
    "plt.plot(torch.log10(train_loss_sgd), c = 'red', label = 'sgd')\n",
    "plt.plot(torch.log10(train_loss_nesterov), c = 'blue', label = 'nesterov')\n",
    "plt.plot(torch.log10(train_loss_mass), c = 'green', label = 'mass')\n",
    "plt.legend()"
   ]
  },
  {
   "cell_type": "code",
   "execution_count": null,
   "metadata": {},
   "outputs": [],
   "source": [
    "parameters_sgd = {\n",
    "    'lr' : np.arange(0.01, 0.3, 0.05),\n",
    "    'optimizer__weight_decay' : np.arange(0,5,1)\n",
    "}\n",
    "\n",
    "#cv_split = ShuffleSplit(n_splits = 10, test_size = .3, train_size = .7, random_state = 0 )\n",
    "\n",
    "net = NeuralNetClassifier(\n",
    "    FCN,\n",
    "    max_epochs=5,\n",
    "    batch_size=64,\n",
    "    optimizer = SGD,\n",
    "    criterion = nn.CrossEntropyLoss,\n",
    "    device = 'cuda:0'\n",
    ")"
   ]
  },
  {
   "cell_type": "code",
   "execution_count": null,
   "metadata": {},
   "outputs": [],
   "source": [
    "\n",
    "gs = GridSearchCV(net, parameters_sgd, cv=3, scoring='accuracy')\n",
    "\n",
    "gs.fit(trainset.data.float().view(60000,-1), trainset.targets)\n",
    "print(gs.best_score_, gs.best_params_)"
   ]
  }
 ]
}