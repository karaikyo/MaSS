{
 "metadata": {
  "language_info": {
   "codemirror_mode": {
    "name": "ipython",
    "version": 3
   },
   "file_extension": ".py",
   "mimetype": "text/x-python",
   "name": "python",
   "nbconvert_exporter": "python",
   "pygments_lexer": "ipython3",
   "version": "3.8.6"
  },
  "orig_nbformat": 2,
  "kernelspec": {
   "name": "python386jvsc74a57bd037b255bb5dc0d995b91bd1b934b878e610a26475f52eafaf29fdb395fb105534",
   "display_name": "Python 3.8.6 64-bit ('base': conda)"
  }
 },
 "nbformat": 4,
 "nbformat_minor": 2,
 "cells": [
  {
   "cell_type": "code",
   "execution_count": null,
   "metadata": {},
   "outputs": [],
   "source": [
    "%matplotlib inline\n",
    "%load_ext autoreload\n",
    "%autoreload 2\n",
    "import torch\n",
    "import torch.nn as nn\n",
    "import torch.nn.functional as F\n",
    "import torchvision.transforms as transforms\n",
    "\n",
    "from torch.optim import Optimizer, SGD\n",
    "import mass\n",
    "from torch.utils.data import DataLoader\n",
    "from torchvision.datasets import CIFAR10\n",
    "import matplotlib.pyplot as plt\n",
    "seed = 7\n",
    "torch.manual_seed(seed)\n",
    "torch.backends.cudnn.deterministic = True\n",
    "torch.backends.cudnn.benchmark = False\n",
    "import numpy as np\n",
    "np.random.seed(seed)"
   ]
  },
  {
   "cell_type": "code",
   "execution_count": null,
   "metadata": {},
   "outputs": [],
   "source": [
    "# CIFAR 10 dataset\n",
    "transform = transforms.Compose([\n",
    "    transforms.ToTensor(),\n",
    "    transforms.Normalize((0.5, 0.5, 0.5), (0.5, 0.5, 0.5))\n",
    "])\n",
    "\n",
    "batch_size = 64\n",
    "\n",
    "trainset = CIFAR10(root='.', train=True, download=True, transform=transform)\n",
    "testset = CIFAR10(root='.', train=False, download=True, transform=transform)\n",
    "\n",
    "trainloader = torch.utils.data.DataLoader(trainset, batch_size=batch_size, shuffle=True, num_workers=2)\n",
    "testloader = torch.utils.data.DataLoader(testset, batch_size=batch_size, shuffle=False, num_workers=2)"
   ]
  },
  {
   "cell_type": "code",
   "execution_count": null,
   "metadata": {},
   "outputs": [],
   "source": [
    "class CNN(nn.Module):\n",
    "    def __init__(self):\n",
    "        super(CNN, self).__init__()\n",
    "        self.conv1 = nn.Conv2d(3, 64, (5,5), padding=0)\n",
    "        self.conv2 = nn.Conv2d(64, 64, (5,5), padding=0)\n",
    "        self.conv3 = nn.Conv2d(64, 128, (5,5), padding=0)\n",
    "        self.fc1 = nn.Linear(128 * 4**2, 128)\n",
    "        self.fc2 = nn.Linear(128, 10)\n",
    "            \n",
    "    def forward(self, x):\n",
    "        out = self.conv1(x)\n",
    "        #out = F.max_pool2d(out, (2,2), stride=2)\n",
    "\n",
    "        out = self.conv2(out)\n",
    "        out = F.max_pool2d(out, (2,2), stride=2)\n",
    "        \n",
    "        out = self.conv3(out)\n",
    "        out = F.max_pool2d(out, (2,2), stride=2)\n",
    "        \n",
    "        out = out.view(out.shape[0], -1)\n",
    "        out = self.fc1(out)\n",
    "        out = F.relu(out)\n",
    "\n",
    "        out = F.dropout(out, 0.5)\n",
    "\n",
    "        out = self.fc2(out)\n",
    "\n",
    "        if not self.training:\n",
    "            out = F.softmax(out, dim=1)\n",
    "        return out"
   ]
  },
  {
   "cell_type": "code",
   "execution_count": null,
   "metadata": {},
   "outputs": [],
   "source": [
    "def fit(model_instance, loss_fn, optim, data_loader, n_iter = 50):\n",
    "    train_loss = torch.zeros(n_iter)\n",
    "\n",
    "    for epoch in range(n_iter):\n",
    "        model_instance.train()\n",
    "        running_loss = 0.0\n",
    "        for data in data_loader:\n",
    "            inputs, labels = data\n",
    "            inputs, labels = inputs.to(device), labels.to(device)\n",
    "\n",
    "            optim.zero_grad()\n",
    "            outputs = model_instance(inputs)\n",
    "            loss = loss_fn(outputs, labels)\n",
    "            loss.backward()\n",
    "            optim.step()\n",
    "            \n",
    "            running_loss += loss.item()\n",
    "        print(\"Epoch %d, loss %4.2f\" % (epoch, running_loss))\n",
    "        train_loss[epoch] = running_loss\n",
    "\n",
    "    print('**** Finished Training ****')\n",
    "    return train_loss"
   ]
  },
  {
   "cell_type": "code",
   "execution_count": null,
   "metadata": {},
   "outputs": [],
   "source": [
    "# SGD\n",
    "torch.cuda.empty_cache()\n",
    "device = \"cuda:0\"\n",
    "\n",
    "model = CNN().to(device)\n",
    "\n",
    "loss_function = nn.CrossEntropyLoss()\n",
    "sgd = SGD(model.parameters(), lr = 0.001)\n",
    "train_loss_sgd = fit(model_instance = model, loss_fn = loss_function, optim = sgd, data_loader=trainloader)\n",
    "torch.save(train_loss_sgd, \"./train_loss_sgd.cifarcnn\")\n",
    "torch.save(model.state_dict(), \"./model_sgd.cifarcnn\")"
   ]
  },
  {
   "cell_type": "code",
   "execution_count": null,
   "metadata": {},
   "outputs": [],
   "source": [
    "# Nesterov\n",
    "torch.cuda.empty_cache()\n",
    "device = \"cuda:0\"\n",
    "\n",
    "model = CNN().to(device)\n",
    "\n",
    "loss_function = nn.CrossEntropyLoss()\n",
    "sgd_nesterov = SGD(model.parameters(), lr = 0.001,momentum=0.9, nesterov=True, weight_decay=3)\n",
    "train_loss_nes = fit(model_instance = model, loss_fn = loss_function, optim = sgd_nesterov, data_loader=trainloader)\n",
    "torch.save(train_loss_sgd, \"./train_loss_nes.cifarcnn\")\n",
    "torch.save(model.state_dict(), \"./model_nes.cifarcnn\")"
   ]
  },
  {
   "cell_type": "code",
   "execution_count": null,
   "metadata": {},
   "outputs": [],
   "source": [
    "# Mass\n",
    "torch.cuda.empty_cache()\n",
    "device = \"cuda:0\"\n",
    "\n",
    "model = CNN().to(device)\n",
    "\n",
    "loss_function = nn.CrossEntropyLoss()\n",
    "mass = mass.Mass(model.parameters(), lr = 0.001, alpha = 0.05, kappa_t = 2)\n",
    "train_loss_mass = fit(model, loss_function, mass, trainloader)\n",
    "torch.save(train_loss_sgd, \"./train_loss_mas.cifarcnn\")\n",
    "torch.save(model.state_dict(), \"./model_mas.cifarcnn\")"
   ]
  },
  {
   "cell_type": "code",
   "execution_count": null,
   "metadata": {},
   "outputs": [],
   "source": [
    "plt.plot(torch.log10(train_loss_sgd), c = 'red', label = 'sgd')\n",
    "plt.plot(torch.log10(train_loss_nes), c = 'blue', label = 'nesterov')\n",
    "plt.plot(torch.log10(train_loss_mass), c = 'green', label = 'mass')\n",
    "plt.legend()"
   ]
  },
  {
   "cell_type": "code",
   "execution_count": null,
   "metadata": {},
   "outputs": [],
   "source": [
    "parameters_mas = {\n",
    "    'lr' : np.arange(0.01, 0.3, 0.05),\n",
    "    'optimizer__alpha' : [0.05],\n",
    "    'optimizer__kappa_t' : range(2, 24, 5)\n",
    "}\n",
    "\n",
    "cv_split = ShuffleSplit(n_splits = 10, test_size = .3, train_size = .7, random_state = 0 )\n",
    "\n",
    "net = NeuralNetClassifier(\n",
    "    CNN,\n",
    "    max_epochs=10,\n",
    "    optimizer = mass.Mass,\n",
    "    criterion = nn.CrossEntropyLoss,\n",
    "    device = 'cuda:0'\n",
    ")"
   ]
  },
  {
   "cell_type": "code",
   "execution_count": null,
   "metadata": {},
   "outputs": [],
   "source": [
    "gs = GridSearchCV(net, parameters_mas, cv=cv_split, scoring='accuracy')\n",
    "\n",
    "gs.fit(torch.from_numpy(trainset.data).permute(0,3,1,2).float(), torch.from_numpy(trainset.targets))\n",
    "print(gs.best_score_, gs.best_params_)"
   ]
  }
 ]
}