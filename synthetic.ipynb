{
 "metadata": {
  "language_info": {
   "codemirror_mode": {
    "name": "ipython",
    "version": 3
   },
   "file_extension": ".py",
   "mimetype": "text/x-python",
   "name": "python",
   "nbconvert_exporter": "python",
   "pygments_lexer": "ipython3",
   "version": "3.8.6"
  },
  "orig_nbformat": 2,
  "kernelspec": {
   "name": "python386jvsc74a57bd037b255bb5dc0d995b91bd1b934b878e610a26475f52eafaf29fdb395fb105534",
   "display_name": "Python 3.8.6 64-bit ('base': conda)"
  }
 },
 "nbformat": 4,
 "nbformat_minor": 2,
 "cells": [
  {
   "cell_type": "code",
   "execution_count": null,
   "metadata": {},
   "outputs": [],
   "source": [
    "%matplotlib inline\n",
    "%load_ext autoreload\n",
    "%autoreload 2\n",
    "import matplotlib.pyplot as plt\n",
    "import torch\n",
    "from sklearn.datasets import make_regression\n",
    "from torch.distributions.multivariate_normal import MultivariateNormal\n",
    "\n",
    "seed = 7\n",
    "torch.manual_seed(seed)\n",
    "torch.backends.cudnn.deterministic = True"
   ]
  },
  {
   "cell_type": "code",
   "execution_count": null,
   "metadata": {},
   "outputs": [],
   "source": [
    "n_data = 2000\n",
    "z = torch.normal(0, 2.0, size=(n_data,),dtype=torch.float)\n",
    "xp = torch.bernoulli(torch.ones(n_data)/2)\n",
    "e1 = torch.tensor([1,0],dtype=torch.float)\n",
    "e2 = torch.tensor([0,1],dtype=torch.float)\n",
    "sigma1 = 1.\n",
    "sigma2 = 1./pow(2,6)"
   ]
  },
  {
   "cell_type": "code",
   "execution_count": null,
   "metadata": {},
   "outputs": [],
   "source": [
    "x = [z[i]*sigma1*xp[i]*e1 + z[i]*sigma2*(1-xp[i])*e2 for i in range(n_data)]\n",
    "x = torch.stack(x)\n",
    "w = torch.tensor([3, 4],dtype=torch.float)\n",
    "y = x@w"
   ]
  },
  {
   "cell_type": "code",
   "execution_count": null,
   "metadata": {},
   "outputs": [],
   "source": [
    "sig = torch.diag(torch.tensor([2*sigma1**2, 2*sigma2**2]))\n",
    "x_dist = MultivariateNormal(torch.zeros(2), sig)\n",
    "x = [x_dist.sample() for i in range(n_data)]\n",
    "x = torch.stack(x)\n",
    "w = torch.tensor([3, 4],dtype=torch.float)\n",
    "y = x@w"
   ]
  },
  {
   "cell_type": "code",
   "execution_count": null,
   "metadata": {},
   "outputs": [],
   "source": [
    "y.shape"
   ]
  },
  {
   "cell_type": "code",
   "execution_count": null,
   "metadata": {},
   "outputs": [],
   "source": [
    "from torch.utils.data import TensorDataset, DataLoader\n",
    "x_train = x.clone().detach().requires_grad_(True)\n",
    "y_train = y.clone().detach().requires_grad_(True)\n",
    "train_ds = TensorDataset(x_train, y_train)\n"
   ]
  },
  {
   "cell_type": "code",
   "execution_count": null,
   "metadata": {},
   "outputs": [],
   "source": [
    "n_iter = 1\n",
    "sgd_loss = torch.zeros(n_iter)\n",
    "mom_loss = torch.zeros(n_iter)\n",
    "nes_loss = torch.zeros(n_iter)\n",
    "mas_loss = torch.zeros(n_iter)"
   ]
  },
  {
   "cell_type": "code",
   "execution_count": null,
   "metadata": {},
   "outputs": [],
   "source": [
    "import torch.nn.functional as F\n",
    "import torch.nn as nn\n",
    "import mass\n",
    "device = \"cuda:0\""
   ]
  },
  {
   "cell_type": "code",
   "execution_count": null,
   "metadata": {},
   "outputs": [],
   "source": [
    "def fit(model_instance, loss_fn, optim, data_loader, n_iter = 1):\n",
    "    batch_loss = torch.zeros(n_data)\n",
    "\n",
    "    for epoch in range(n_iter):\n",
    "        model_instance.train()\n",
    "        running_loss = 0.0\n",
    "        i=0\n",
    "        for xb,yb in data_loader:\n",
    "            xb = xb.to(device)\n",
    "            yb = yb.to(device)\n",
    "            pred = model_instance(xb)\n",
    "            pred = pred.squeeze(0)\n",
    "            loss = loss_fn(pred, yb)\n",
    "            \n",
    "            loss.backward()\n",
    "            optim.step()\n",
    "            optim.zero_grad()\n",
    "            running_loss += loss.item()\n",
    "            batch_loss[i]=loss.item()\n",
    "            i+=1\n",
    "        print(\"Epoch %d, loss %4.2f\" % (epoch, running_loss))\n",
    "    return batch_loss"
   ]
  },
  {
   "cell_type": "code",
   "execution_count": null,
   "metadata": {},
   "outputs": [],
   "source": [
    "eta1 = 1/6\n",
    "eta2 = 5/(36+6*sigma2)\n",
    "gamma = (6-sigma2)/(6+sigma2)\n",
    "lr_mass = eta1\n",
    "alpha_mass = (1-gamma)/(1+gamma)\n",
    "kappa_mass = eta1/(eta1 - eta2*(1+alpha_mass))"
   ]
  },
  {
   "cell_type": "code",
   "execution_count": null,
   "metadata": {},
   "outputs": [],
   "source": [
    "lr_mass"
   ]
  },
  {
   "cell_type": "code",
   "execution_count": null,
   "metadata": {},
   "outputs": [],
   "source": [
    "model = nn.Linear(2, 1).to(device)\n",
    "batch_size = 1\n",
    "train_dl = DataLoader(train_ds, batch_size, shuffle=True)\n",
    "optSGD = torch.optim.SGD(model.parameters(), lr=1e-3)\n",
    "optMOM = torch.optim.SGD(model.parameters(), lr = 1e-3, momentum=0.9)\n",
    "optNES = torch.optim.SGD(model.parameters(), lr = 1e-3,momentum=0.9, nesterov=True)\n",
    "optMAS = mass.Mass(model.parameters(),lr=lr_mass,alpha=alpha_mass,kappa_t=kappa_mass)\n",
    "optASGD = torch.optim.ASGD(model.parameters(),lr=1e-3)\n",
    "loss_function = F.mse_loss"
   ]
  },
  {
   "cell_type": "code",
   "execution_count": null,
   "metadata": {},
   "outputs": [],
   "source": [
    "#sgd_batch_loss = fit(model, loss_function,optSGD,train_dl)\n",
    "#mom_batch_loss = fit(model, loss_function,optMOM,train_dl)\n",
    "#nes_batch_loss = fit(model, loss_function,optNES,train_dl)\n",
    "mas_batch_loss = fit(model, loss_function,optMAS,train_dl)\n",
    "#asgd_batch_loss = fit(model, loss_function,optASGD,train_dl)"
   ]
  },
  {
   "cell_type": "code",
   "execution_count": null,
   "metadata": {},
   "outputs": [],
   "source": [
    "plt.plot(torch.log10(sgd_batch_loss), c = 'red', label = 'sgd')\n",
    "plt.plot(torch.log10(mom_batch_loss), c = 'blue', label = 'momentum')\n",
    "plt.plot(torch.log10(nes_batch_loss), c = 'green', label = 'nesterov')\n",
    "plt.plot(torch.log10(mas_batch_loss), c = 'purple', label = 'mass')\n",
    "plt.plot(torch.log10(asgd_batch_loss), c = 'cyan', label = 'asgd')\n",
    "plt.legend()"
   ]
  },
  {
   "cell_type": "code",
   "execution_count": null,
   "metadata": {},
   "outputs": [],
   "source": [
    "plt.plot(torch.log10(asgd_batch_loss), c = 'cyan', label = 'asgd')"
   ]
  },
  {
   "cell_type": "code",
   "execution_count": null,
   "metadata": {},
   "outputs": [],
   "source": [
    "plt.plot(torch.log10(sgd_batch_loss), c = 'red', label = 'sgd')"
   ]
  },
  {
   "cell_type": "code",
   "execution_count": null,
   "metadata": {},
   "outputs": [],
   "source": [
    "plt.plot(torch.log10(mom_batch_loss), c = 'blue', label = 'momentum')"
   ]
  },
  {
   "cell_type": "code",
   "execution_count": null,
   "metadata": {},
   "outputs": [],
   "source": [
    "plt.plot(torch.log10(nes_batch_loss), c = 'green', label = 'nesterov')"
   ]
  },
  {
   "cell_type": "code",
   "execution_count": null,
   "metadata": {},
   "outputs": [],
   "source": [
    "plt.plot(torch.log10(mas_batch_loss), c = 'purple', label = 'mass')"
   ]
  }
 ]
}